{
  "nbformat": 4,
  "nbformat_minor": 0,
  "metadata": {
    "colab": {
      "name": "S12_Part_B_Yolo_Dogs_KMeans.ipynb",
      "provenance": [],
      "toc_visible": true
    },
    "kernelspec": {
      "name": "python3",
      "display_name": "Python 3"
    }
  },
  "cells": [
    {
      "cell_type": "code",
      "metadata": {
        "id": "bt1iTj9BX1X3",
        "colab_type": "code",
        "colab": {}
      },
      "source": [
        "from sklearn.cluster import KMeans \n",
        "from sklearn import metrics \n",
        "from scipy.spatial.distance import cdist \n",
        "import numpy as np \n",
        "import matplotlib.pyplot as plt\n",
        "import pandas as pd"
      ],
      "execution_count": 0,
      "outputs": []
    },
    {
      "cell_type": "markdown",
      "metadata": {
        "id": "n-KRuDPCoI14",
        "colab_type": "text"
      },
      "source": [
        "# ***Mounting GDrive***"
      ]
    },
    {
      "cell_type": "code",
      "metadata": {
        "id": "OgxV4zGgX65X",
        "colab_type": "code",
        "outputId": "78993a62-4cc0-4c5b-ff30-aa6340972ccf",
        "colab": {
          "base_uri": "https://localhost:8080/",
          "height": 35
        }
      },
      "source": [
        "from google.colab import drive\n",
        "drive.mount('/gdrive')"
      ],
      "execution_count": 63,
      "outputs": [
        {
          "output_type": "stream",
          "text": [
            "Drive already mounted at /gdrive; to attempt to forcibly remount, call drive.mount(\"/gdrive\", force_remount=True).\n"
          ],
          "name": "stdout"
        }
      ]
    },
    {
      "cell_type": "code",
      "metadata": {
        "id": "dPhjnzvQYOy8",
        "colab_type": "code",
        "outputId": "edb756ba-be26-46a6-961e-383946810a55",
        "colab": {
          "base_uri": "https://localhost:8080/",
          "height": 159
        }
      },
      "source": [
        "path = '/gdrive/My Drive/EVA4/'\n",
        "!ls '/gdrive/My Drive/EVA4/'"
      ],
      "execution_count": 64,
      "outputs": [
        {
          "output_type": "stream",
          "text": [
            " A11.py\t\t\t\t\t     lrfinder.py\n",
            " dataloaders.py\t\t\t\t     LR_Range_Test.py\n",
            " Dogs_CocoJson.json\t\t\t     modelstats.py\n",
            "'Dogs JSON Coco Annotated Description.jpg'   modeltrainer.py\n",
            " Dogs_Json_Coco.json\t\t\t     plots.py\n",
            " eva4net.py\t\t\t\t     plots.py.gdoc\n",
            " evadatatransforms.py\t\t\t     __pycache__\n",
            " gradcam.py\t\t\t\t     resnetmodel.py\n"
          ],
          "name": "stdout"
        }
      ]
    },
    {
      "cell_type": "markdown",
      "metadata": {
        "colab_type": "text",
        "id": "k1axN6AnXDPa"
      },
      "source": [
        "# ***Loading JSON File (COCO JSON File)***\n",
        "\n",
        "\n"
      ]
    },
    {
      "cell_type": "markdown",
      "metadata": {
        "id": "UJ1wsd9RZG11",
        "colab_type": "text"
      },
      "source": [
        ""
      ]
    },
    {
      "cell_type": "code",
      "metadata": {
        "id": "MJCnEfrzYOqw",
        "colab_type": "code",
        "colab": {}
      },
      "source": [
        "import json\n",
        "with open(path + \"Dogs_Json_Coco.json\") as f:\n",
        "  annotations_data = json.load(f)"
      ],
      "execution_count": 0,
      "outputs": []
    },
    {
      "cell_type": "markdown",
      "metadata": {
        "id": "U9EYE04rXPjq",
        "colab_type": "text"
      },
      "source": [
        "# ***Dogs JSON COCO File Description Sample***\n",
        "\n",
        "![alt text](https://drive.google.com/uc?id=1KmiWtoVD1vqyyZ-OvMkwGwp4f-z-KZj8)\n",
        "[Dogs JSON COCO File Description Sample](https://drive.google.com/open?id=1N10ImjUeOuHbSdhDWwvxeqilzGnitWpz)"
      ]
    },
    {
      "cell_type": "markdown",
      "metadata": {
        "id": "LHoqqDzUoc9A",
        "colab_type": "text"
      },
      "source": [
        "# ***Extracting Keys from JSON File***\n",
        "\n",
        "\n",
        "\n",
        "\n",
        "\n",
        "\n"
      ]
    },
    {
      "cell_type": "code",
      "metadata": {
        "id": "93SonxAEYZQV",
        "colab_type": "code",
        "outputId": "30c63130-8470-47a3-ac2f-025e2c452c74",
        "colab": {
          "base_uri": "https://localhost:8080/",
          "height": 35
        }
      },
      "source": [
        "print(annotations_data.keys())"
      ],
      "execution_count": 66,
      "outputs": [
        {
          "output_type": "stream",
          "text": [
            "dict_keys(['info', 'images', 'annotations', 'licenses', 'categories'])\n"
          ],
          "name": "stdout"
        }
      ]
    },
    {
      "cell_type": "markdown",
      "metadata": {
        "id": "4x24rHEAo4Pp",
        "colab_type": "text"
      },
      "source": [
        "# Extracting Image Attributes from the JSON ***File***"
      ]
    },
    {
      "cell_type": "code",
      "metadata": {
        "id": "fVBeTFe2YarG",
        "colab_type": "code",
        "outputId": "0a450aef-0774-4df7-ff68-98ed7ee8e44e",
        "colab": {
          "base_uri": "https://localhost:8080/",
          "height": 194
        }
      },
      "source": [
        "images = pd.DataFrame(annotations_data['images'], columns = annotations_data['images'][0].keys())\n",
        "images.head()"
      ],
      "execution_count": 67,
      "outputs": [
        {
          "output_type": "execute_result",
          "data": {
            "text/html": [
              "<div>\n",
              "<style scoped>\n",
              "    .dataframe tbody tr th:only-of-type {\n",
              "        vertical-align: middle;\n",
              "    }\n",
              "\n",
              "    .dataframe tbody tr th {\n",
              "        vertical-align: top;\n",
              "    }\n",
              "\n",
              "    .dataframe thead th {\n",
              "        text-align: right;\n",
              "    }\n",
              "</style>\n",
              "<table border=\"1\" class=\"dataframe\">\n",
              "  <thead>\n",
              "    <tr style=\"text-align: right;\">\n",
              "      <th></th>\n",
              "      <th>id</th>\n",
              "      <th>width</th>\n",
              "      <th>height</th>\n",
              "      <th>file_name</th>\n",
              "      <th>license</th>\n",
              "      <th>date_captured</th>\n",
              "    </tr>\n",
              "  </thead>\n",
              "  <tbody>\n",
              "    <tr>\n",
              "      <th>0</th>\n",
              "      <td>0</td>\n",
              "      <td>400</td>\n",
              "      <td>500</td>\n",
              "      <td>D1.jpg</td>\n",
              "      <td>1</td>\n",
              "      <td></td>\n",
              "    </tr>\n",
              "    <tr>\n",
              "      <th>1</th>\n",
              "      <td>1</td>\n",
              "      <td>500</td>\n",
              "      <td>333</td>\n",
              "      <td>D2.jpg</td>\n",
              "      <td>1</td>\n",
              "      <td></td>\n",
              "    </tr>\n",
              "    <tr>\n",
              "      <th>2</th>\n",
              "      <td>2</td>\n",
              "      <td>500</td>\n",
              "      <td>333</td>\n",
              "      <td>D3.jpg</td>\n",
              "      <td>1</td>\n",
              "      <td></td>\n",
              "    </tr>\n",
              "    <tr>\n",
              "      <th>3</th>\n",
              "      <td>3</td>\n",
              "      <td>500</td>\n",
              "      <td>375</td>\n",
              "      <td>D4.jpg</td>\n",
              "      <td>1</td>\n",
              "      <td></td>\n",
              "    </tr>\n",
              "    <tr>\n",
              "      <th>4</th>\n",
              "      <td>4</td>\n",
              "      <td>500</td>\n",
              "      <td>375</td>\n",
              "      <td>D5.jpg</td>\n",
              "      <td>1</td>\n",
              "      <td></td>\n",
              "    </tr>\n",
              "  </tbody>\n",
              "</table>\n",
              "</div>"
            ],
            "text/plain": [
              "   id  width  height file_name  license date_captured\n",
              "0   0    400     500    D1.jpg        1              \n",
              "1   1    500     333    D2.jpg        1              \n",
              "2   2    500     333    D3.jpg        1              \n",
              "3   3    500     375    D4.jpg        1              \n",
              "4   4    500     375    D5.jpg        1              "
            ]
          },
          "metadata": {
            "tags": []
          },
          "execution_count": 67
        }
      ]
    },
    {
      "cell_type": "markdown",
      "metadata": {
        "id": "p4Je-8ybpCQo",
        "colab_type": "text"
      },
      "source": [
        "# Removing Unnecessary Attributes from Image ***Attributes***"
      ]
    },
    {
      "cell_type": "code",
      "metadata": {
        "id": "dNDdQb3hYygN",
        "colab_type": "code",
        "outputId": "cb7bd466-91b2-493f-aaf9-76a42e0b3231",
        "colab": {
          "base_uri": "https://localhost:8080/",
          "height": 194
        }
      },
      "source": [
        "images = images.drop([\"id\", \"license\",\"date_captured\"],axis = 1)\n",
        "images.head()"
      ],
      "execution_count": 68,
      "outputs": [
        {
          "output_type": "execute_result",
          "data": {
            "text/html": [
              "<div>\n",
              "<style scoped>\n",
              "    .dataframe tbody tr th:only-of-type {\n",
              "        vertical-align: middle;\n",
              "    }\n",
              "\n",
              "    .dataframe tbody tr th {\n",
              "        vertical-align: top;\n",
              "    }\n",
              "\n",
              "    .dataframe thead th {\n",
              "        text-align: right;\n",
              "    }\n",
              "</style>\n",
              "<table border=\"1\" class=\"dataframe\">\n",
              "  <thead>\n",
              "    <tr style=\"text-align: right;\">\n",
              "      <th></th>\n",
              "      <th>width</th>\n",
              "      <th>height</th>\n",
              "      <th>file_name</th>\n",
              "    </tr>\n",
              "  </thead>\n",
              "  <tbody>\n",
              "    <tr>\n",
              "      <th>0</th>\n",
              "      <td>400</td>\n",
              "      <td>500</td>\n",
              "      <td>D1.jpg</td>\n",
              "    </tr>\n",
              "    <tr>\n",
              "      <th>1</th>\n",
              "      <td>500</td>\n",
              "      <td>333</td>\n",
              "      <td>D2.jpg</td>\n",
              "    </tr>\n",
              "    <tr>\n",
              "      <th>2</th>\n",
              "      <td>500</td>\n",
              "      <td>333</td>\n",
              "      <td>D3.jpg</td>\n",
              "    </tr>\n",
              "    <tr>\n",
              "      <th>3</th>\n",
              "      <td>500</td>\n",
              "      <td>375</td>\n",
              "      <td>D4.jpg</td>\n",
              "    </tr>\n",
              "    <tr>\n",
              "      <th>4</th>\n",
              "      <td>500</td>\n",
              "      <td>375</td>\n",
              "      <td>D5.jpg</td>\n",
              "    </tr>\n",
              "  </tbody>\n",
              "</table>\n",
              "</div>"
            ],
            "text/plain": [
              "   width  height file_name\n",
              "0    400     500    D1.jpg\n",
              "1    500     333    D2.jpg\n",
              "2    500     333    D3.jpg\n",
              "3    500     375    D4.jpg\n",
              "4    500     375    D5.jpg"
            ]
          },
          "metadata": {
            "tags": []
          },
          "execution_count": 68
        }
      ]
    },
    {
      "cell_type": "markdown",
      "metadata": {
        "id": "EdYH5YJ6pRJZ",
        "colab_type": "text"
      },
      "source": [
        "# ***Extracting Annotated Image Attributes from the JSON File***"
      ]
    },
    {
      "cell_type": "code",
      "metadata": {
        "id": "W5nB-XexY5cV",
        "colab_type": "code",
        "outputId": "18afc06a-1ce7-4c8a-df24-e98fd4b545ec",
        "colab": {
          "base_uri": "https://localhost:8080/",
          "height": 194
        }
      },
      "source": [
        "annotations = pd.DataFrame(annotations_data['annotations'], columns = annotations_data['annotations'][0].keys())\n",
        "annotations.head()"
      ],
      "execution_count": 69,
      "outputs": [
        {
          "output_type": "execute_result",
          "data": {
            "text/html": [
              "<div>\n",
              "<style scoped>\n",
              "    .dataframe tbody tr th:only-of-type {\n",
              "        vertical-align: middle;\n",
              "    }\n",
              "\n",
              "    .dataframe tbody tr th {\n",
              "        vertical-align: top;\n",
              "    }\n",
              "\n",
              "    .dataframe thead th {\n",
              "        text-align: right;\n",
              "    }\n",
              "</style>\n",
              "<table border=\"1\" class=\"dataframe\">\n",
              "  <thead>\n",
              "    <tr style=\"text-align: right;\">\n",
              "      <th></th>\n",
              "      <th>id</th>\n",
              "      <th>image_id</th>\n",
              "      <th>segmentation</th>\n",
              "      <th>area</th>\n",
              "      <th>bbox</th>\n",
              "      <th>iscrowd</th>\n",
              "    </tr>\n",
              "  </thead>\n",
              "  <tbody>\n",
              "    <tr>\n",
              "      <th>0</th>\n",
              "      <td>0</td>\n",
              "      <td>0</td>\n",
              "      <td>[114, 44, 378, 44, 378, 488, 114, 488]</td>\n",
              "      <td>117216</td>\n",
              "      <td>[114, 44, 264, 444]</td>\n",
              "      <td>0</td>\n",
              "    </tr>\n",
              "    <tr>\n",
              "      <th>1</th>\n",
              "      <td>1</td>\n",
              "      <td>1</td>\n",
              "      <td>[178, 51, 346, 51, 346, 197, 178, 197]</td>\n",
              "      <td>24528</td>\n",
              "      <td>[178, 51, 168, 146]</td>\n",
              "      <td>0</td>\n",
              "    </tr>\n",
              "    <tr>\n",
              "      <th>2</th>\n",
              "      <td>2</td>\n",
              "      <td>2</td>\n",
              "      <td>[149, 22, 422, 22, 422, 318, 149, 318]</td>\n",
              "      <td>80808</td>\n",
              "      <td>[149, 22, 273, 296]</td>\n",
              "      <td>0</td>\n",
              "    </tr>\n",
              "    <tr>\n",
              "      <th>3</th>\n",
              "      <td>3</td>\n",
              "      <td>3</td>\n",
              "      <td>[177, 106, 394, 106, 394, 339, 177, 339]</td>\n",
              "      <td>50561</td>\n",
              "      <td>[177, 106, 217, 233]</td>\n",
              "      <td>0</td>\n",
              "    </tr>\n",
              "    <tr>\n",
              "      <th>4</th>\n",
              "      <td>4</td>\n",
              "      <td>4</td>\n",
              "      <td>[8, 84, 449, 84, 449, 347, 8, 347]</td>\n",
              "      <td>115983</td>\n",
              "      <td>[8, 84, 441, 263]</td>\n",
              "      <td>0</td>\n",
              "    </tr>\n",
              "  </tbody>\n",
              "</table>\n",
              "</div>"
            ],
            "text/plain": [
              "   id image_id  ...                  bbox  iscrowd\n",
              "0   0        0  ...   [114, 44, 264, 444]        0\n",
              "1   1        1  ...   [178, 51, 168, 146]        0\n",
              "2   2        2  ...   [149, 22, 273, 296]        0\n",
              "3   3        3  ...  [177, 106, 217, 233]        0\n",
              "4   4        4  ...     [8, 84, 441, 263]        0\n",
              "\n",
              "[5 rows x 6 columns]"
            ]
          },
          "metadata": {
            "tags": []
          },
          "execution_count": 69
        }
      ]
    },
    {
      "cell_type": "markdown",
      "metadata": {
        "id": "xVdV9nXupgIY",
        "colab_type": "text"
      },
      "source": [
        "# ***Removing Unnecessary Attributes from Annotated Image Attributes from the JSON File***"
      ]
    },
    {
      "cell_type": "code",
      "metadata": {
        "id": "2LvApwklY8fF",
        "colab_type": "code",
        "outputId": "1b2b776f-2ece-4a01-b20f-10173d452979",
        "colab": {
          "base_uri": "https://localhost:8080/",
          "height": 194
        }
      },
      "source": [
        "bbwidth = []\n",
        "bbheight = []\n",
        "bbox = list(annotations['bbox'])\n",
        "for i in bbox:\n",
        "    bbwidth.append(i[2])\n",
        "    bbheight.append(i[3])\n",
        "annotations['bbwidth'] = bbwidth\n",
        "annotations['bbheight'] = bbheight\n",
        "annotations = annotations.drop([\"bbox\", \"id\",\"segmentation\",\"area\",\"iscrowd\"],axis =1)\n",
        "annotations.head()"
      ],
      "execution_count": 70,
      "outputs": [
        {
          "output_type": "execute_result",
          "data": {
            "text/html": [
              "<div>\n",
              "<style scoped>\n",
              "    .dataframe tbody tr th:only-of-type {\n",
              "        vertical-align: middle;\n",
              "    }\n",
              "\n",
              "    .dataframe tbody tr th {\n",
              "        vertical-align: top;\n",
              "    }\n",
              "\n",
              "    .dataframe thead th {\n",
              "        text-align: right;\n",
              "    }\n",
              "</style>\n",
              "<table border=\"1\" class=\"dataframe\">\n",
              "  <thead>\n",
              "    <tr style=\"text-align: right;\">\n",
              "      <th></th>\n",
              "      <th>image_id</th>\n",
              "      <th>bbwidth</th>\n",
              "      <th>bbheight</th>\n",
              "    </tr>\n",
              "  </thead>\n",
              "  <tbody>\n",
              "    <tr>\n",
              "      <th>0</th>\n",
              "      <td>0</td>\n",
              "      <td>264</td>\n",
              "      <td>444</td>\n",
              "    </tr>\n",
              "    <tr>\n",
              "      <th>1</th>\n",
              "      <td>1</td>\n",
              "      <td>168</td>\n",
              "      <td>146</td>\n",
              "    </tr>\n",
              "    <tr>\n",
              "      <th>2</th>\n",
              "      <td>2</td>\n",
              "      <td>273</td>\n",
              "      <td>296</td>\n",
              "    </tr>\n",
              "    <tr>\n",
              "      <th>3</th>\n",
              "      <td>3</td>\n",
              "      <td>217</td>\n",
              "      <td>233</td>\n",
              "    </tr>\n",
              "    <tr>\n",
              "      <th>4</th>\n",
              "      <td>4</td>\n",
              "      <td>441</td>\n",
              "      <td>263</td>\n",
              "    </tr>\n",
              "  </tbody>\n",
              "</table>\n",
              "</div>"
            ],
            "text/plain": [
              "  image_id  bbwidth  bbheight\n",
              "0        0      264       444\n",
              "1        1      168       146\n",
              "2        2      273       296\n",
              "3        3      217       233\n",
              "4        4      441       263"
            ]
          },
          "metadata": {
            "tags": []
          },
          "execution_count": 70
        }
      ]
    },
    {
      "cell_type": "markdown",
      "metadata": {
        "id": "bWtWZN8Gp7xJ",
        "colab_type": "text"
      },
      "source": [
        "# ***Combining the Image and Annotated Image Attributes***"
      ]
    },
    {
      "cell_type": "code",
      "metadata": {
        "id": "BOjbpzE7ZAol",
        "colab_type": "code",
        "outputId": "36f35bd1-f4c7-43ed-efb7-471fa8a263ff",
        "colab": {
          "base_uri": "https://localhost:8080/",
          "height": 194
        }
      },
      "source": [
        "image_info = pd.concat([images,annotations],axis = 1)\n",
        "\n",
        "columnsTitles = ['image_id', 'file_name', 'bbwidth','bbheight','width','height']\n",
        "image_info = image_info.reindex(columns=columnsTitles)\n",
        "\n",
        "image_info.head()"
      ],
      "execution_count": 71,
      "outputs": [
        {
          "output_type": "execute_result",
          "data": {
            "text/html": [
              "<div>\n",
              "<style scoped>\n",
              "    .dataframe tbody tr th:only-of-type {\n",
              "        vertical-align: middle;\n",
              "    }\n",
              "\n",
              "    .dataframe tbody tr th {\n",
              "        vertical-align: top;\n",
              "    }\n",
              "\n",
              "    .dataframe thead th {\n",
              "        text-align: right;\n",
              "    }\n",
              "</style>\n",
              "<table border=\"1\" class=\"dataframe\">\n",
              "  <thead>\n",
              "    <tr style=\"text-align: right;\">\n",
              "      <th></th>\n",
              "      <th>image_id</th>\n",
              "      <th>file_name</th>\n",
              "      <th>bbwidth</th>\n",
              "      <th>bbheight</th>\n",
              "      <th>width</th>\n",
              "      <th>height</th>\n",
              "    </tr>\n",
              "  </thead>\n",
              "  <tbody>\n",
              "    <tr>\n",
              "      <th>0</th>\n",
              "      <td>0</td>\n",
              "      <td>D1.jpg</td>\n",
              "      <td>264</td>\n",
              "      <td>444</td>\n",
              "      <td>400.0</td>\n",
              "      <td>500.0</td>\n",
              "    </tr>\n",
              "    <tr>\n",
              "      <th>1</th>\n",
              "      <td>1</td>\n",
              "      <td>D2.jpg</td>\n",
              "      <td>168</td>\n",
              "      <td>146</td>\n",
              "      <td>500.0</td>\n",
              "      <td>333.0</td>\n",
              "    </tr>\n",
              "    <tr>\n",
              "      <th>2</th>\n",
              "      <td>2</td>\n",
              "      <td>D3.jpg</td>\n",
              "      <td>273</td>\n",
              "      <td>296</td>\n",
              "      <td>500.0</td>\n",
              "      <td>333.0</td>\n",
              "    </tr>\n",
              "    <tr>\n",
              "      <th>3</th>\n",
              "      <td>3</td>\n",
              "      <td>D4.jpg</td>\n",
              "      <td>217</td>\n",
              "      <td>233</td>\n",
              "      <td>500.0</td>\n",
              "      <td>375.0</td>\n",
              "    </tr>\n",
              "    <tr>\n",
              "      <th>4</th>\n",
              "      <td>4</td>\n",
              "      <td>D5.jpg</td>\n",
              "      <td>441</td>\n",
              "      <td>263</td>\n",
              "      <td>500.0</td>\n",
              "      <td>375.0</td>\n",
              "    </tr>\n",
              "  </tbody>\n",
              "</table>\n",
              "</div>"
            ],
            "text/plain": [
              "  image_id file_name  bbwidth  bbheight  width  height\n",
              "0        0    D1.jpg      264       444  400.0   500.0\n",
              "1        1    D2.jpg      168       146  500.0   333.0\n",
              "2        2    D3.jpg      273       296  500.0   333.0\n",
              "3        3    D4.jpg      217       233  500.0   375.0\n",
              "4        4    D5.jpg      441       263  500.0   375.0"
            ]
          },
          "metadata": {
            "tags": []
          },
          "execution_count": 71
        }
      ]
    },
    {
      "cell_type": "markdown",
      "metadata": {
        "id": "CiFTIlKkqOP5",
        "colab_type": "text"
      },
      "source": [
        "# ***Normalising the Image (Height and Width to 1)***"
      ]
    },
    {
      "cell_type": "code",
      "metadata": {
        "id": "8RJaZ716ZGLs",
        "colab_type": "code",
        "outputId": "c65ae2ae-efec-43c2-e815-3c2ba39f78c3",
        "colab": {
          "base_uri": "https://localhost:8080/",
          "height": 194
        }
      },
      "source": [
        "image_info['bbwidth'] = image_info['bbwidth'].div(image_info['width'])\n",
        "image_info['bbheight'] = image_info['bbheight'].div(image_info['height'])\n",
        "image_info['height'] = image_info['height'].div(image_info['height'])\n",
        "image_info['width'] = image_info['width'].div(image_info['width'])\n",
        "\n",
        "image_info.head()"
      ],
      "execution_count": 72,
      "outputs": [
        {
          "output_type": "execute_result",
          "data": {
            "text/html": [
              "<div>\n",
              "<style scoped>\n",
              "    .dataframe tbody tr th:only-of-type {\n",
              "        vertical-align: middle;\n",
              "    }\n",
              "\n",
              "    .dataframe tbody tr th {\n",
              "        vertical-align: top;\n",
              "    }\n",
              "\n",
              "    .dataframe thead th {\n",
              "        text-align: right;\n",
              "    }\n",
              "</style>\n",
              "<table border=\"1\" class=\"dataframe\">\n",
              "  <thead>\n",
              "    <tr style=\"text-align: right;\">\n",
              "      <th></th>\n",
              "      <th>image_id</th>\n",
              "      <th>file_name</th>\n",
              "      <th>bbwidth</th>\n",
              "      <th>bbheight</th>\n",
              "      <th>width</th>\n",
              "      <th>height</th>\n",
              "    </tr>\n",
              "  </thead>\n",
              "  <tbody>\n",
              "    <tr>\n",
              "      <th>0</th>\n",
              "      <td>0</td>\n",
              "      <td>D1.jpg</td>\n",
              "      <td>0.660</td>\n",
              "      <td>0.888000</td>\n",
              "      <td>1.0</td>\n",
              "      <td>1.0</td>\n",
              "    </tr>\n",
              "    <tr>\n",
              "      <th>1</th>\n",
              "      <td>1</td>\n",
              "      <td>D2.jpg</td>\n",
              "      <td>0.336</td>\n",
              "      <td>0.438438</td>\n",
              "      <td>1.0</td>\n",
              "      <td>1.0</td>\n",
              "    </tr>\n",
              "    <tr>\n",
              "      <th>2</th>\n",
              "      <td>2</td>\n",
              "      <td>D3.jpg</td>\n",
              "      <td>0.546</td>\n",
              "      <td>0.888889</td>\n",
              "      <td>1.0</td>\n",
              "      <td>1.0</td>\n",
              "    </tr>\n",
              "    <tr>\n",
              "      <th>3</th>\n",
              "      <td>3</td>\n",
              "      <td>D4.jpg</td>\n",
              "      <td>0.434</td>\n",
              "      <td>0.621333</td>\n",
              "      <td>1.0</td>\n",
              "      <td>1.0</td>\n",
              "    </tr>\n",
              "    <tr>\n",
              "      <th>4</th>\n",
              "      <td>4</td>\n",
              "      <td>D5.jpg</td>\n",
              "      <td>0.882</td>\n",
              "      <td>0.701333</td>\n",
              "      <td>1.0</td>\n",
              "      <td>1.0</td>\n",
              "    </tr>\n",
              "  </tbody>\n",
              "</table>\n",
              "</div>"
            ],
            "text/plain": [
              "  image_id file_name  bbwidth  bbheight  width  height\n",
              "0        0    D1.jpg    0.660  0.888000    1.0     1.0\n",
              "1        1    D2.jpg    0.336  0.438438    1.0     1.0\n",
              "2        2    D3.jpg    0.546  0.888889    1.0     1.0\n",
              "3        3    D4.jpg    0.434  0.621333    1.0     1.0\n",
              "4        4    D5.jpg    0.882  0.701333    1.0     1.0"
            ]
          },
          "metadata": {
            "tags": []
          },
          "execution_count": 72
        }
      ]
    },
    {
      "cell_type": "markdown",
      "metadata": {
        "id": "GS50WQSGqZXC",
        "colab_type": "text"
      },
      "source": [
        "# ***Dropping Unnecessary Values(NAN) from the Normalised Image Values***"
      ]
    },
    {
      "cell_type": "code",
      "metadata": {
        "id": "FyhJlS3wZJak",
        "colab_type": "code",
        "outputId": "556f686d-a8c4-47ba-e29b-24d6a6a291fa",
        "colab": {
          "base_uri": "https://localhost:8080/",
          "height": 1000
        }
      },
      "source": [
        "image_info_final = image_info.drop([\"width\",\"height\",\"file_name\"],axis = 1)\n",
        "image_info_final = image_info_final.apply (pd.to_numeric, errors='coerce')\n",
        "image_info_final = image_info_final.dropna()\n",
        "image_info_final"
      ],
      "execution_count": 73,
      "outputs": [
        {
          "output_type": "execute_result",
          "data": {
            "text/html": [
              "<div>\n",
              "<style scoped>\n",
              "    .dataframe tbody tr th:only-of-type {\n",
              "        vertical-align: middle;\n",
              "    }\n",
              "\n",
              "    .dataframe tbody tr th {\n",
              "        vertical-align: top;\n",
              "    }\n",
              "\n",
              "    .dataframe thead th {\n",
              "        text-align: right;\n",
              "    }\n",
              "</style>\n",
              "<table border=\"1\" class=\"dataframe\">\n",
              "  <thead>\n",
              "    <tr style=\"text-align: right;\">\n",
              "      <th></th>\n",
              "      <th>image_id</th>\n",
              "      <th>bbwidth</th>\n",
              "      <th>bbheight</th>\n",
              "    </tr>\n",
              "  </thead>\n",
              "  <tbody>\n",
              "    <tr>\n",
              "      <th>0</th>\n",
              "      <td>0</td>\n",
              "      <td>0.660000</td>\n",
              "      <td>0.888000</td>\n",
              "    </tr>\n",
              "    <tr>\n",
              "      <th>1</th>\n",
              "      <td>1</td>\n",
              "      <td>0.336000</td>\n",
              "      <td>0.438438</td>\n",
              "    </tr>\n",
              "    <tr>\n",
              "      <th>2</th>\n",
              "      <td>2</td>\n",
              "      <td>0.546000</td>\n",
              "      <td>0.888889</td>\n",
              "    </tr>\n",
              "    <tr>\n",
              "      <th>3</th>\n",
              "      <td>3</td>\n",
              "      <td>0.434000</td>\n",
              "      <td>0.621333</td>\n",
              "    </tr>\n",
              "    <tr>\n",
              "      <th>4</th>\n",
              "      <td>4</td>\n",
              "      <td>0.882000</td>\n",
              "      <td>0.701333</td>\n",
              "    </tr>\n",
              "    <tr>\n",
              "      <th>5</th>\n",
              "      <td>5</td>\n",
              "      <td>0.937656</td>\n",
              "      <td>0.920110</td>\n",
              "    </tr>\n",
              "    <tr>\n",
              "      <th>6</th>\n",
              "      <td>6</td>\n",
              "      <td>0.653846</td>\n",
              "      <td>0.900000</td>\n",
              "    </tr>\n",
              "    <tr>\n",
              "      <th>7</th>\n",
              "      <td>7</td>\n",
              "      <td>0.292000</td>\n",
              "      <td>0.370667</td>\n",
              "    </tr>\n",
              "    <tr>\n",
              "      <th>8</th>\n",
              "      <td>7</td>\n",
              "      <td>0.483333</td>\n",
              "      <td>0.817664</td>\n",
              "    </tr>\n",
              "    <tr>\n",
              "      <th>9</th>\n",
              "      <td>8</td>\n",
              "      <td>1.093525</td>\n",
              "      <td>1.270073</td>\n",
              "    </tr>\n",
              "    <tr>\n",
              "      <th>10</th>\n",
              "      <td>9</td>\n",
              "      <td>0.520000</td>\n",
              "      <td>0.768546</td>\n",
              "    </tr>\n",
              "    <tr>\n",
              "      <th>11</th>\n",
              "      <td>10</td>\n",
              "      <td>0.346000</td>\n",
              "      <td>0.418667</td>\n",
              "    </tr>\n",
              "    <tr>\n",
              "      <th>12</th>\n",
              "      <td>11</td>\n",
              "      <td>0.239394</td>\n",
              "      <td>0.569721</td>\n",
              "    </tr>\n",
              "    <tr>\n",
              "      <th>13</th>\n",
              "      <td>12</td>\n",
              "      <td>0.470000</td>\n",
              "      <td>0.446000</td>\n",
              "    </tr>\n",
              "    <tr>\n",
              "      <th>14</th>\n",
              "      <td>13</td>\n",
              "      <td>0.308000</td>\n",
              "      <td>0.298333</td>\n",
              "    </tr>\n",
              "    <tr>\n",
              "      <th>15</th>\n",
              "      <td>14</td>\n",
              "      <td>1.286957</td>\n",
              "      <td>1.644444</td>\n",
              "    </tr>\n",
              "    <tr>\n",
              "      <th>16</th>\n",
              "      <td>15</td>\n",
              "      <td>0.755556</td>\n",
              "      <td>1.223443</td>\n",
              "    </tr>\n",
              "    <tr>\n",
              "      <th>17</th>\n",
              "      <td>16</td>\n",
              "      <td>0.410667</td>\n",
              "      <td>0.348000</td>\n",
              "    </tr>\n",
              "    <tr>\n",
              "      <th>18</th>\n",
              "      <td>17</td>\n",
              "      <td>0.508000</td>\n",
              "      <td>0.992000</td>\n",
              "    </tr>\n",
              "    <tr>\n",
              "      <th>19</th>\n",
              "      <td>18</td>\n",
              "      <td>0.616000</td>\n",
              "      <td>0.538667</td>\n",
              "    </tr>\n",
              "    <tr>\n",
              "      <th>20</th>\n",
              "      <td>19</td>\n",
              "      <td>0.706000</td>\n",
              "      <td>0.938667</td>\n",
              "    </tr>\n",
              "    <tr>\n",
              "      <th>21</th>\n",
              "      <td>20</td>\n",
              "      <td>0.854000</td>\n",
              "      <td>0.602000</td>\n",
              "    </tr>\n",
              "    <tr>\n",
              "      <th>22</th>\n",
              "      <td>21</td>\n",
              "      <td>0.499165</td>\n",
              "      <td>1.018692</td>\n",
              "    </tr>\n",
              "    <tr>\n",
              "      <th>23</th>\n",
              "      <td>22</td>\n",
              "      <td>0.932000</td>\n",
              "      <td>1.132132</td>\n",
              "    </tr>\n",
              "    <tr>\n",
              "      <th>24</th>\n",
              "      <td>23</td>\n",
              "      <td>1.255556</td>\n",
              "      <td>1.096667</td>\n",
              "    </tr>\n",
              "    <tr>\n",
              "      <th>25</th>\n",
              "      <td>24</td>\n",
              "      <td>0.573333</td>\n",
              "      <td>0.562000</td>\n",
              "    </tr>\n",
              "    <tr>\n",
              "      <th>26</th>\n",
              "      <td>25</td>\n",
              "      <td>0.742000</td>\n",
              "      <td>1.288000</td>\n",
              "    </tr>\n",
              "    <tr>\n",
              "      <th>27</th>\n",
              "      <td>26</td>\n",
              "      <td>0.918000</td>\n",
              "      <td>0.989333</td>\n",
              "    </tr>\n",
              "    <tr>\n",
              "      <th>28</th>\n",
              "      <td>27</td>\n",
              "      <td>0.456000</td>\n",
              "      <td>0.834337</td>\n",
              "    </tr>\n",
              "    <tr>\n",
              "      <th>29</th>\n",
              "      <td>28</td>\n",
              "      <td>0.685000</td>\n",
              "      <td>0.504178</td>\n",
              "    </tr>\n",
              "    <tr>\n",
              "      <th>30</th>\n",
              "      <td>29</td>\n",
              "      <td>1.762791</td>\n",
              "      <td>1.532710</td>\n",
              "    </tr>\n",
              "    <tr>\n",
              "      <th>31</th>\n",
              "      <td>30</td>\n",
              "      <td>0.246000</td>\n",
              "      <td>0.339943</td>\n",
              "    </tr>\n",
              "    <tr>\n",
              "      <th>32</th>\n",
              "      <td>31</td>\n",
              "      <td>0.638000</td>\n",
              "      <td>0.786667</td>\n",
              "    </tr>\n",
              "    <tr>\n",
              "      <th>33</th>\n",
              "      <td>32</td>\n",
              "      <td>0.644000</td>\n",
              "      <td>0.986667</td>\n",
              "    </tr>\n",
              "    <tr>\n",
              "      <th>34</th>\n",
              "      <td>32</td>\n",
              "      <td>0.320000</td>\n",
              "      <td>0.410667</td>\n",
              "    </tr>\n",
              "    <tr>\n",
              "      <th>35</th>\n",
              "      <td>33</td>\n",
              "      <td>0.624000</td>\n",
              "      <td>0.830721</td>\n",
              "    </tr>\n",
              "    <tr>\n",
              "      <th>36</th>\n",
              "      <td>34</td>\n",
              "      <td>0.516269</td>\n",
              "      <td>0.628000</td>\n",
              "    </tr>\n",
              "    <tr>\n",
              "      <th>37</th>\n",
              "      <td>35</td>\n",
              "      <td>0.738000</td>\n",
              "      <td>0.604027</td>\n",
              "    </tr>\n",
              "    <tr>\n",
              "      <th>38</th>\n",
              "      <td>36</td>\n",
              "      <td>1.357143</td>\n",
              "      <td>0.958678</td>\n",
              "    </tr>\n",
              "    <tr>\n",
              "      <th>39</th>\n",
              "      <td>37</td>\n",
              "      <td>0.390000</td>\n",
              "      <td>0.552000</td>\n",
              "    </tr>\n",
              "    <tr>\n",
              "      <th>40</th>\n",
              "      <td>38</td>\n",
              "      <td>0.426702</td>\n",
              "      <td>0.908854</td>\n",
              "    </tr>\n",
              "    <tr>\n",
              "      <th>41</th>\n",
              "      <td>39</td>\n",
              "      <td>1.181333</td>\n",
              "      <td>0.436000</td>\n",
              "    </tr>\n",
              "    <tr>\n",
              "      <th>42</th>\n",
              "      <td>40</td>\n",
              "      <td>0.150000</td>\n",
              "      <td>0.315000</td>\n",
              "    </tr>\n",
              "    <tr>\n",
              "      <th>43</th>\n",
              "      <td>40</td>\n",
              "      <td>0.208000</td>\n",
              "      <td>0.208000</td>\n",
              "    </tr>\n",
              "    <tr>\n",
              "      <th>44</th>\n",
              "      <td>40</td>\n",
              "      <td>0.278000</td>\n",
              "      <td>0.297414</td>\n",
              "    </tr>\n",
              "    <tr>\n",
              "      <th>45</th>\n",
              "      <td>41</td>\n",
              "      <td>0.773684</td>\n",
              "      <td>1.363636</td>\n",
              "    </tr>\n",
              "    <tr>\n",
              "      <th>46</th>\n",
              "      <td>42</td>\n",
              "      <td>1.645485</td>\n",
              "      <td>1.250602</td>\n",
              "    </tr>\n",
              "    <tr>\n",
              "      <th>47</th>\n",
              "      <td>43</td>\n",
              "      <td>0.546547</td>\n",
              "      <td>0.514000</td>\n",
              "    </tr>\n",
              "    <tr>\n",
              "      <th>48</th>\n",
              "      <td>44</td>\n",
              "      <td>0.920000</td>\n",
              "      <td>1.258929</td>\n",
              "    </tr>\n",
              "    <tr>\n",
              "      <th>49</th>\n",
              "      <td>45</td>\n",
              "      <td>0.673428</td>\n",
              "      <td>0.480000</td>\n",
              "    </tr>\n",
              "    <tr>\n",
              "      <th>50</th>\n",
              "      <td>46</td>\n",
              "      <td>0.333333</td>\n",
              "      <td>0.322000</td>\n",
              "    </tr>\n",
              "    <tr>\n",
              "      <th>51</th>\n",
              "      <td>47</td>\n",
              "      <td>0.465625</td>\n",
              "      <td>0.529894</td>\n",
              "    </tr>\n",
              "    <tr>\n",
              "      <th>52</th>\n",
              "      <td>48</td>\n",
              "      <td>0.337500</td>\n",
              "      <td>0.656250</td>\n",
              "    </tr>\n",
              "    <tr>\n",
              "      <th>53</th>\n",
              "      <td>49</td>\n",
              "      <td>0.360000</td>\n",
              "      <td>0.765766</td>\n",
              "    </tr>\n",
              "    <tr>\n",
              "      <th>54</th>\n",
              "      <td>50</td>\n",
              "      <td>0.591880</td>\n",
              "      <td>1.043605</td>\n",
              "    </tr>\n",
              "  </tbody>\n",
              "</table>\n",
              "</div>"
            ],
            "text/plain": [
              "    image_id   bbwidth  bbheight\n",
              "0          0  0.660000  0.888000\n",
              "1          1  0.336000  0.438438\n",
              "2          2  0.546000  0.888889\n",
              "3          3  0.434000  0.621333\n",
              "4          4  0.882000  0.701333\n",
              "5          5  0.937656  0.920110\n",
              "6          6  0.653846  0.900000\n",
              "7          7  0.292000  0.370667\n",
              "8          7  0.483333  0.817664\n",
              "9          8  1.093525  1.270073\n",
              "10         9  0.520000  0.768546\n",
              "11        10  0.346000  0.418667\n",
              "12        11  0.239394  0.569721\n",
              "13        12  0.470000  0.446000\n",
              "14        13  0.308000  0.298333\n",
              "15        14  1.286957  1.644444\n",
              "16        15  0.755556  1.223443\n",
              "17        16  0.410667  0.348000\n",
              "18        17  0.508000  0.992000\n",
              "19        18  0.616000  0.538667\n",
              "20        19  0.706000  0.938667\n",
              "21        20  0.854000  0.602000\n",
              "22        21  0.499165  1.018692\n",
              "23        22  0.932000  1.132132\n",
              "24        23  1.255556  1.096667\n",
              "25        24  0.573333  0.562000\n",
              "26        25  0.742000  1.288000\n",
              "27        26  0.918000  0.989333\n",
              "28        27  0.456000  0.834337\n",
              "29        28  0.685000  0.504178\n",
              "30        29  1.762791  1.532710\n",
              "31        30  0.246000  0.339943\n",
              "32        31  0.638000  0.786667\n",
              "33        32  0.644000  0.986667\n",
              "34        32  0.320000  0.410667\n",
              "35        33  0.624000  0.830721\n",
              "36        34  0.516269  0.628000\n",
              "37        35  0.738000  0.604027\n",
              "38        36  1.357143  0.958678\n",
              "39        37  0.390000  0.552000\n",
              "40        38  0.426702  0.908854\n",
              "41        39  1.181333  0.436000\n",
              "42        40  0.150000  0.315000\n",
              "43        40  0.208000  0.208000\n",
              "44        40  0.278000  0.297414\n",
              "45        41  0.773684  1.363636\n",
              "46        42  1.645485  1.250602\n",
              "47        43  0.546547  0.514000\n",
              "48        44  0.920000  1.258929\n",
              "49        45  0.673428  0.480000\n",
              "50        46  0.333333  0.322000\n",
              "51        47  0.465625  0.529894\n",
              "52        48  0.337500  0.656250\n",
              "53        49  0.360000  0.765766\n",
              "54        50  0.591880  1.043605"
            ]
          },
          "metadata": {
            "tags": []
          },
          "execution_count": 73
        }
      ]
    },
    {
      "cell_type": "markdown",
      "metadata": {
        "id": "NK3OlMRtqnHz",
        "colab_type": "text"
      },
      "source": [
        "# ***Plotting the Image Values with Bounding Box Height and Width***"
      ]
    },
    {
      "cell_type": "code",
      "metadata": {
        "id": "CtQtjdSKZMzf",
        "colab_type": "code",
        "outputId": "0a790e41-2a32-4996-e468-1b4fe4226d0c",
        "colab": {
          "base_uri": "https://localhost:8080/",
          "height": 283
        }
      },
      "source": [
        "import matplotlib.pyplot as plt\n",
        "plt.plot(image_info_final['bbwidth'],image_info_final['bbheight'],'.')"
      ],
      "execution_count": 74,
      "outputs": [
        {
          "output_type": "execute_result",
          "data": {
            "text/plain": [
              "[<matplotlib.lines.Line2D at 0x7f7cde543ac8>]"
            ]
          },
          "metadata": {
            "tags": []
          },
          "execution_count": 74
        },
        {
          "output_type": "display_data",
          "data": {
            "image/png": "[encoded data removed]",
            "text/plain": [
              "<Figure size 432x288 with 1 Axes>"
            ]
          },
          "metadata": {
            "tags": [],
            "needs_background": "light"
          }
        }
      ]
    },
    {
      "cell_type": "code",
      "metadata": {
        "id": "NYezvQEoZRP8",
        "colab_type": "code",
        "outputId": "d1dc0999-c44b-45ea-ccd9-8170d859e47c",
        "colab": {
          "base_uri": "https://localhost:8080/",
          "height": 281
        }
      },
      "source": [
        "plt.plot() \n",
        "plt.xlim([0, 2]) \n",
        "plt.ylim([0, 2]) \n",
        "plt.title('Dataset') \n",
        "plt.scatter(image_info_final['bbwidth'], image_info_final['bbheight']) \n",
        "plt.show()"
      ],
      "execution_count": 75,
      "outputs": [
        {
          "output_type": "display_data",
          "data": {
            "image/png": "[encoded data removed]",
            "text/plain": [
              "<Figure size 432x288 with 1 Axes>"
            ]
          },
          "metadata": {
            "tags": [],
            "needs_background": "light"
          }
        }
      ]
    },
    {
      "cell_type": "code",
      "metadata": {
        "id": "l-gcA2bZfyXd",
        "colab_type": "code",
        "colab": {}
      },
      "source": [
        "X=image_info_final[['bbwidth','bbheight']].to_numpy()"
      ],
      "execution_count": 0,
      "outputs": []
    },
    {
      "cell_type": "markdown",
      "metadata": {
        "id": "06nDIN68rZ6h",
        "colab_type": "text"
      },
      "source": [
        "# ***Intersection over Union***"
      ]
    },
    {
      "cell_type": "code",
      "metadata": {
        "id": "Nd6wp19edwmN",
        "colab_type": "code",
        "colab": {}
      },
      "source": [
        "import numpy as np\n",
        "\n",
        "# given centroids find the maximum IOU of a bbox\n",
        "def iou(box, centroids):\n",
        "    x = np.minimum(np.exp(centroids[:, 0]), np.exp(box[0]))\n",
        "    y = np.minimum(np.exp(centroids[:, 1]), np.exp(box[1]))\n",
        "\n",
        "    intersection = x * y\n",
        "    box_area = np.exp(box[0]) * np.exp(box[1])\n",
        "    centroid_area = np.exp(centroids[:, 0]) * np.exp(centroids[:, 1])\n",
        "\n",
        "    iou_ = intersection / (box_area + centroid_area - intersection)\n",
        "    #return iou_\n",
        "    return (np.max(iou_), np.argmax(iou_))"
      ],
      "execution_count": 0,
      "outputs": []
    },
    {
      "cell_type": "markdown",
      "metadata": {
        "id": "9u7pryq9reTh",
        "colab_type": "text"
      },
      "source": [
        "# ***Elbow Method***"
      ]
    },
    {
      "cell_type": "code",
      "metadata": {
        "id": "IcrihhmHZVX0",
        "colab_type": "code",
        "colab": {}
      },
      "source": [
        "distortions = [] \n",
        "inertias = [] \n",
        "mapping1 = {} \n",
        "mapping2 = {} \n",
        "centroids = {}\n",
        "memberships = {}\n",
        "miou = []\n",
        "K = range(1,21) \n",
        "  \n",
        "for k in K: \n",
        "    #Building and fitting the model \n",
        "    kmeanModel = KMeans(n_clusters=k).fit(X) \n",
        "    kmeanModel.fit(X)     \n",
        "      \n",
        "    distortions.append(sum(np.min(cdist(X, kmeanModel.cluster_centers_, \n",
        "                      'euclidean'),axis=1)) / X.shape[0]) \n",
        "    inertias.append(kmeanModel.inertia_) \n",
        "  \n",
        "    mapping1[k] = sum(np.min(cdist(X, kmeanModel.cluster_centers_, \n",
        "                 'euclidean'),axis=1)) / X.shape[0] \n",
        "    mapping2[k] = kmeanModel.inertia_\n",
        "    centroids[k] = kmeanModel.cluster_centers_\n",
        "    maxiou = np.array([iou(b, centroids[k])  for b in X])\n",
        "    memberships[k] = maxiou[:, 1].astype(np.uint8)\n",
        "    # find mean of maximum IOU between bounding boxes and individual anchors\n",
        "    miou.append(np.mean(maxiou[:, 0]))"
      ],
      "execution_count": 0,
      "outputs": []
    },
    {
      "cell_type": "markdown",
      "metadata": {
        "id": "CEZVTfynrjDk",
        "colab_type": "text"
      },
      "source": [
        "# ***Elbow Method using Distortion***"
      ]
    },
    {
      "cell_type": "code",
      "metadata": {
        "id": "_GxrBt9AZXkE",
        "colab_type": "code",
        "outputId": "05827c1a-07b1-4934-bf69-1aba6b556b48",
        "colab": {
          "base_uri": "https://localhost:8080/",
          "height": 295
        }
      },
      "source": [
        "plt.plot(K, distortions, 'bx-') \n",
        "plt.xlabel('Values of K') \n",
        "plt.ylabel('Distortion') \n",
        "plt.title('The Elbow Method using Distortion') \n",
        "plt.show()"
      ],
      "execution_count": 79,
      "outputs": [
        {
          "output_type": "display_data",
          "data": {
            "image/png": "[encoded data removed]",
            "text/plain": [
              "<Figure size 432x288 with 1 Axes>"
            ]
          },
          "metadata": {
            "tags": [],
            "needs_background": "light"
          }
        }
      ]
    },
    {
      "cell_type": "markdown",
      "metadata": {
        "id": "C5xb06vBr9wv",
        "colab_type": "text"
      },
      "source": [
        "# ***Elbow Method using Inertia***"
      ]
    },
    {
      "cell_type": "code",
      "metadata": {
        "id": "sJEe8OI7ZZ2E",
        "colab_type": "code",
        "outputId": "8b3b03e8-a0d7-4641-99c0-38ae3c4514ab",
        "colab": {
          "base_uri": "https://localhost:8080/",
          "height": 295
        }
      },
      "source": [
        "plt.plot(K, inertias, 'bx-') \n",
        "plt.xlabel('Values of K') \n",
        "plt.ylabel('Inertia') \n",
        "plt.title('The Elbow Method using Inertia') \n",
        "plt.show()"
      ],
      "execution_count": 80,
      "outputs": [
        {
          "output_type": "display_data",
          "data": {
            "image/png": "[encoded data removed]",
            "text/plain": [
              "<Figure size 432x288 with 1 Axes>"
            ]
          },
          "metadata": {
            "tags": [],
            "needs_background": "light"
          }
        }
      ]
    },
    {
      "cell_type": "markdown",
      "metadata": {
        "id": "Im5OUm4QscoI",
        "colab_type": "text"
      },
      "source": [
        "# ***Elbow Method to Determine Optimal K (No. of Clusters)***"
      ]
    },
    {
      "cell_type": "code",
      "metadata": {
        "id": "jowngj2QsL1S",
        "colab_type": "code",
        "outputId": "672099d8-a990-413e-9272-2cccb6f6b808",
        "colab": {
          "base_uri": "https://localhost:8080/",
          "height": 295
        }
      },
      "source": [
        "distortions = []\n",
        "K = range(1,10)\n",
        "for k in K:\n",
        "    kmeanModel = KMeans(n_clusters=k).fit(image_info_final)\n",
        "    kmeanModel.fit(image_info_final)\n",
        "    distortions.append(sum(np.min(cdist(image_info_final, kmeanModel.cluster_centers_, 'euclidean'), axis=1)) /image_info_final.shape[0])\n",
        "\n",
        "# Plot the elbow\n",
        "plt.plot(K, distortions, '.-')\n",
        "plt.xlabel('k')\n",
        "plt.ylabel('Distortion')\n",
        "plt.title('The Elbow Method showing the optimal k')\n",
        "plt.show()"
      ],
      "execution_count": 81,
      "outputs": [
        {
          "output_type": "display_data",
          "data": {
            "image/png": "[encoded data removed]",
            "text/plain": [
              "<Figure size 432x288 with 1 Axes>"
            ]
          },
          "metadata": {
            "tags": [],
            "needs_background": "light"
          }
        }
      ]
    },
    {
      "cell_type": "code",
      "metadata": {
        "id": "lo24028hZm7R",
        "colab_type": "code",
        "colab": {}
      },
      "source": [
        "import seaborn as sns\n",
        "def plotclusters(k):\n",
        "  #ax = image_info_final.plot.scatter('log_width', 'log_height', c=f'cluster{k}', colormap='viridis')\n",
        "  ax = sns.scatterplot('bbwidth', 'bbheight', data=image_info_final, hue=memberships[k], style = memberships[k], palette=\"Set2\")\n",
        "  ax.scatter(centroids[k][:,0], centroids[k][:,1], marker='*', c='black')\n",
        "  plt.show()"
      ],
      "execution_count": 0,
      "outputs": []
    },
    {
      "cell_type": "markdown",
      "metadata": {
        "id": "PsgZEBQ5s-tn",
        "colab_type": "text"
      },
      "source": [
        "# ***Plotting Clusters for K = 3,4,5,6,7,8***"
      ]
    },
    {
      "cell_type": "code",
      "metadata": {
        "id": "18bsRoiCZq7E",
        "colab_type": "code",
        "outputId": "b177e1c6-be89-44e6-c129-d0361cb28ddd",
        "colab": {
          "base_uri": "https://localhost:8080/",
          "height": 1000
        }
      },
      "source": [
        "for k in [3, 4, 5, 6,7,8]:\n",
        "  plotclusters(k)"
      ],
      "execution_count": 83,
      "outputs": [
        {
          "output_type": "display_data",
          "data": {
            "image/png": "[encoded data removed]",
            "text/plain": [
              "<Figure size 432x288 with 1 Axes>"
            ]
          },
          "metadata": {
            "tags": [],
            "needs_background": "light"
          }
        },
        {
          "output_type": "display_data",
          "data": {
            "image/png": "[encoded data removed]",
            "text/plain": [
              "<Figure size 432x288 with 1 Axes>"
            ]
          },
          "metadata": {
            "tags": [],
            "needs_background": "light"
          }
        },
        {
          "output_type": "display_data",
          "data": {
            "image/png": "[encoded data removed]",
            "text/plain": [
              "<Figure size 432x288 with 1 Axes>"
            ]
          },
          "metadata": {
            "tags": [],
            "needs_background": "light"
          }
        },
        {
          "output_type": "display_data",
          "data": {
            "image/png": "[encoded data removed]",
            "text/plain": [
              "<Figure size 432x288 with 1 Axes>"
            ]
          },
          "metadata": {
            "tags": [],
            "needs_background": "light"
          }
        },
        {
          "output_type": "display_data",
          "data": {
            "image/png": "[encoded data removed]",
            "text/plain": [
              "<Figure size 432x288 with 1 Axes>"
            ]
          },
          "metadata": {
            "tags": [],
            "needs_background": "light"
          }
        },
        {
          "output_type": "display_data",
          "data": {
            "image/png": "[encoded data removed]",
            "text/plain": [
              "<Figure size 432x288 with 1 Axes>"
            ]
          },
          "metadata": {
            "tags": [],
            "needs_background": "light"
          }
        }
      ]
    },
    {
      "cell_type": "code",
      "metadata": {
        "id": "tUnW434vZtnU",
        "colab_type": "code",
        "outputId": "d8a89544-eb24-439a-800b-f59a350b806d",
        "colab": {
          "base_uri": "https://localhost:8080/",
          "height": 195
        }
      },
      "source": [
        "!pip install pyclustering"
      ],
      "execution_count": 84,
      "outputs": [
        {
          "output_type": "stream",
          "text": [
            "Requirement already satisfied: pyclustering in /usr/local/lib/python3.6/dist-packages (0.9.3.1)\n",
            "Requirement already satisfied: numpy in /usr/local/lib/python3.6/dist-packages (from pyclustering) (1.18.2)\n",
            "Requirement already satisfied: Pillow in /usr/local/lib/python3.6/dist-packages (from pyclustering) (7.0.0)\n",
            "Requirement already satisfied: matplotlib in /usr/local/lib/python3.6/dist-packages (from pyclustering) (3.2.1)\n",
            "Requirement already satisfied: scipy in /usr/local/lib/python3.6/dist-packages (from pyclustering) (1.4.1)\n",
            "Requirement already satisfied: cycler>=0.10 in /usr/local/lib/python3.6/dist-packages (from matplotlib->pyclustering) (0.10.0)\n",
            "Requirement already satisfied: pyparsing!=2.0.4,!=2.1.2,!=2.1.6,>=2.0.1 in /usr/local/lib/python3.6/dist-packages (from matplotlib->pyclustering) (2.4.7)\n",
            "Requirement already satisfied: python-dateutil>=2.1 in /usr/local/lib/python3.6/dist-packages (from matplotlib->pyclustering) (2.8.1)\n",
            "Requirement already satisfied: kiwisolver>=1.0.1 in /usr/local/lib/python3.6/dist-packages (from matplotlib->pyclustering) (1.2.0)\n",
            "Requirement already satisfied: six in /usr/local/lib/python3.6/dist-packages (from cycler>=0.10->matplotlib->pyclustering) (1.12.0)\n"
          ],
          "name": "stdout"
        }
      ]
    },
    {
      "cell_type": "markdown",
      "metadata": {
        "id": "L93emt83v2kx",
        "colab_type": "text"
      },
      "source": [
        "# ***Using Distance Metric of IoU***"
      ]
    },
    {
      "cell_type": "code",
      "metadata": {
        "id": "vQ8_WiNYZyq0",
        "colab_type": "code",
        "colab": {}
      },
      "source": [
        "# given centroids find the maximum IOU of a bbox\n",
        "def ioudist(box, centroid):\n",
        "    #print(centroid)\n",
        "    x = np.minimum(np.exp(centroid[0]), np.exp(box[0]))\n",
        "    y = np.minimum(np.exp(centroid[1]), np.exp(box[1]))\n",
        "\n",
        "    intersection = x * y\n",
        "    box_area = np.exp(box[0]) * np.exp(box[1])\n",
        "    centroid_area = np.exp(centroid[0]) * np.exp(centroid[1])\n",
        "\n",
        "    iou_ = intersection / (box_area + centroid_area - intersection)\n",
        "    return 1 - iou_"
      ],
      "execution_count": 0,
      "outputs": []
    },
    {
      "cell_type": "code",
      "metadata": {
        "id": "H7CV78-QaUMs",
        "colab_type": "code",
        "colab": {}
      },
      "source": [
        "from pyclustering.cluster.kmeans import kmeans, kmeans_visualizer\n",
        "from pyclustering.cluster.center_initializer import kmeans_plusplus_initializer\n",
        "from pyclustering.utils.metric import type_metric, distance_metric\n",
        "\n",
        "metric = distance_metric(type_metric.USER_DEFINED, func=ioudist)\n",
        "clusters = []\n",
        "final_centers = []\n",
        "mean_iou = []\n",
        "for k in K:\n",
        "  # Prepare initial centers using K-Means++ method.\n",
        "  initial_centers = kmeans_plusplus_initializer(X, k).initialize()\n",
        "\n",
        "  if k==1:\n",
        "    kmeans_instance = kmeans(X, initial_centers)  \n",
        "  else:\n",
        "    kmeans_instance = kmeans(X, initial_centers, metric=metric)\n",
        "\n",
        "  kmeans_instance.process()\n",
        "  clusters.append(kmeans_instance.get_clusters())\n",
        "  c = np.array(kmeans_instance.get_centers())\n",
        "  final_centers.append(c)\n",
        "  maxiou = np.array([iou(b, c)  for b in X])\n",
        "  mean_iou.append(np.mean(maxiou[:, 0]))"
      ],
      "execution_count": 0,
      "outputs": []
    },
    {
      "cell_type": "markdown",
      "metadata": {
        "id": "cQ41ueevv9Mo",
        "colab_type": "text"
      },
      "source": [
        "Visualising "
      ]
    },
    {
      "cell_type": "code",
      "metadata": {
        "id": "lUFK50PPhYF3",
        "colab_type": "code",
        "outputId": "4b01c6d2-6517-4a7e-c563-768456f5d3bc",
        "colab": {
          "base_uri": "https://localhost:8080/",
          "height": 1000
        }
      },
      "source": [
        "for k in range(2, 8):\n",
        "  kmeans_visualizer.show_clusters(X, clusters[k], final_centers[k])"
      ],
      "execution_count": 87,
      "outputs": [
        {
          "output_type": "display_data",
          "data": {
            "image/png": "[encoded data removed]",
            "text/plain": [
              "<Figure size 432x288 with 1 Axes>"
            ]
          },
          "metadata": {
            "tags": [],
            "needs_background": "light"
          }
        },
        {
          "output_type": "display_data",
          "data": {
            "image/png": "[encoded data removed]",
            "text/plain": [
              "<Figure size 432x288 with 1 Axes>"
            ]
          },
          "metadata": {
            "tags": [],
            "needs_background": "light"
          }
        },
        {
          "output_type": "display_data",
          "data": {
            "image/png": "[encoded data removed]",
            "text/plain": [
              "<Figure size 432x288 with 1 Axes>"
            ]
          },
          "metadata": {
            "tags": [],
            "needs_background": "light"
          }
        },
        {
          "output_type": "display_data",
          "data": {
            "image/png": "[encoded data removed]",
            "text/plain": [
              "<Figure size 432x288 with 1 Axes>"
            ]
          },
          "metadata": {
            "tags": [],
            "needs_background": "light"
          }
        },
        {
          "output_type": "display_data",
          "data": {
            "image/png": "[encoded data removed]",
            "text/plain": [
              "<Figure size 432x288 with 1 Axes>"
            ]
          },
          "metadata": {
            "tags": [],
            "needs_background": "light"
          }
        },
        {
          "output_type": "display_data",
          "data": {
            "image/png": "[encoded data removed]",
            "text/plain": [
              "<Figure size 432x288 with 1 Axes>"
            ]
          },
          "metadata": {
            "tags": [],
            "needs_background": "light"
          }
        }
      ]
    },
    {
      "cell_type": "markdown",
      "metadata": {
        "id": "OHNDOwGMthBn",
        "colab_type": "text"
      },
      "source": [
        "# ***Plotting the Data Points of Images for K = 3 (using Elbow Method)***"
      ]
    },
    {
      "cell_type": "code",
      "metadata": {
        "id": "XRkJsT5im-Bq",
        "colab_type": "code",
        "outputId": "3495abd1-2673-4cac-9da3-af39ac9f1bca",
        "colab": {
          "base_uri": "https://localhost:8080/",
          "height": 295
        }
      },
      "source": [
        "cl3 = KMeans(3)\n",
        "cl3.fit(X)\n",
        "\n",
        "plt.scatter(cl3.cluster_centers_[:,0] ,cl3.cluster_centers_[:,1], color='red',s = 100,marker = 'o', label='centroids')\n",
        "plt.scatter(list(image_info_final['bbwidth']), list(image_info_final['bbheight']), marker=\"v\",c=list(cl3.labels_.astype(float)), label = \"data\")\n",
        "plt.legend()\n",
        "plt.xlabel('bbwidth')\n",
        "plt.ylabel('bbheight')\n",
        "plt.title('K Means for k = 3')\n",
        "plt.legend()\n",
        "plt.show()"
      ],
      "execution_count": 88,
      "outputs": [
        {
          "output_type": "display_data",
          "data": {
            "image/png": "[encoded data removed]",
            "text/plain": [
              "<Figure size 432x288 with 1 Axes>"
            ]
          },
          "metadata": {
            "tags": [],
            "needs_background": "light"
          }
        }
      ]
    },
    {
      "cell_type": "markdown",
      "metadata": {
        "id": "YXBHo07vtxt_",
        "colab_type": "text"
      },
      "source": [
        "# ***Plotting the Data Points of Images for K = 4 (Mean IoU)***"
      ]
    },
    {
      "cell_type": "code",
      "metadata": {
        "id": "TTuvwiNVnWxp",
        "colab_type": "code",
        "outputId": "5be3fa47-ba6b-49a9-88f7-567c87f1496f",
        "colab": {
          "base_uri": "https://localhost:8080/",
          "height": 295
        }
      },
      "source": [
        "cl3 = KMeans(4)\n",
        "cl3.fit(X)\n",
        "\n",
        "plt.scatter(cl3.cluster_centers_[:,0] ,cl3.cluster_centers_[:,1], color='red',s = 100,marker = 'o', label='centroids')\n",
        "plt.scatter(list(image_info_final['bbwidth']), list(image_info_final['bbheight']), marker=\"v\",c=list(cl3.labels_.astype(float)), label = \"data\")\n",
        "plt.legend()\n",
        "plt.xlabel('bbwidth')\n",
        "plt.ylabel('bbheight')\n",
        "plt.title('K Means for k = 3')\n",
        "plt.legend()\n",
        "plt.show()"
      ],
      "execution_count": 89,
      "outputs": [
        {
          "output_type": "display_data",
          "data": {
            "image/png": "[encoded data removed]",
            "text/plain": [
              "<Figure size 432x288 with 1 Axes>"
            ]
          },
          "metadata": {
            "tags": [],
            "needs_background": "light"
          }
        }
      ]
    },
    {
      "cell_type": "markdown",
      "metadata": {
        "id": "YbOTI23ywUpe",
        "colab_type": "text"
      },
      "source": [
        "***Observations : It is observed the Optimal Number of Clusters would be either 3 or 4***"
      ]
    },
    {
      "cell_type": "markdown",
      "metadata": {
        "id": "sEfYRhK7uG_e",
        "colab_type": "text"
      },
      "source": [
        "***Submitted by G Uday Kiran, V Srilakshmi***"
      ]
    }
  ]
}